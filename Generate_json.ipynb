{
 "cells": [
  {
   "cell_type": "code",
   "execution_count": 16,
   "metadata": {
    "collapsed": true
   },
   "outputs": [],
   "source": [
    "import pandas as pd\n",
    "import numpy as np\n",
    "import json\n",
    "from collections import defaultdict"
   ]
  },
  {
   "cell_type": "code",
   "execution_count": 19,
   "metadata": {
    "collapsed": true
   },
   "outputs": [],
   "source": [
    "\n",
    "def generate_json(input_file,output_file,major):\n",
    "    data = pd.read_excel(input_file,sheetname=1)\n",
    "    data.dropna(axis=1,how='all').head()\n",
    "    data.fillna(value=' ',inplace=True)\n",
    "    grouped_data = data.groupby(['3rd year 1','3rd year 2','3rd year 3','3rd year 4'])\n",
    "    major_nodes = create_node_dict(grouped_data,major)\n",
    "    major_links = create_link_dict(grouped_data,major)\n",
    "    major_strs = create_json(major_nodes,major_links)\n",
    "    jsonData = json.dumps(immu_strs)\n",
    "    with open(output_file, 'w') as f:\n",
    "     json.dump(immu_strs, f)\n",
    "\n",
    "def create_node_dict(grouped_data,major):\n",
    "    node_dict = dict()\n",
    "    node_val = 0\n",
    "    for name, group in grouped_data:\n",
    "        if group['Major'].unique() == major:\n",
    "            if group['Major'].unique()[0] not in node_dict.keys():\n",
    "                node_dict[str(group['Major'].unique()[0])] = node_val\n",
    "                node_val+=1\n",
    "            first_yr_subs = (' ').join(filter(str.strip,[str(x) for x in group[['1st yr 1','1st yr 2',\\\n",
    "                                                                                '1st yr 3','1st year 4']].values[0]]))\n",
    "            if first_yr_subs not in node_dict.keys():\n",
    "                node_dict[first_yr_subs] = node_val\n",
    "                node_val+=1\n",
    "            second_yr_subs = (' ').join(filter(str.strip,[str(x) for x in group[['2nd year 1','2nd year 2',\\\n",
    "                                                                                 '2nd year 3','2nd year 4',\\\n",
    "                                                                                 '2nd year 5','2nd year 6']].values[0]]))\n",
    "            if second_yr_subs not in node_dict.keys():\n",
    "                node_dict[second_yr_subs] = node_val\n",
    "                node_val+=1\n",
    "            for name_obj in name:\n",
    "                if str(name_obj) not in node_dict.keys():\n",
    "                    node_dict[str(name_obj)] = node_val\n",
    "                    node_val+=1\n",
    "    return node_dict\n",
    "\n",
    "def create_link_dict(grouped_data,major):\n",
    "    link_dict = defaultdict(dict)\n",
    "    link_val = 0\n",
    "    for name, group in grouped_data:\n",
    "        if group['Major'].unique() == major:\n",
    "            first_yr_subs = (' ').join(filter(str.strip,[str(x) for x in group[['1st yr 1','1st yr 2',\\\n",
    "                                                                                '1st yr 3','1st year 4']].values[0]]))\n",
    "            second_yr_subs = (' ').join(filter(str.strip,[str(x) for x in group[['2nd year 1','2nd year 2',\\\n",
    "                                                                                 '2nd year 3','2nd year 4',\\\n",
    "                                                                                 '2nd year 5','2nd year 6']].values[0]]))\n",
    "            link_dict[str(group['Major'].unique()[0])][first_yr_subs] = link_dict[str(group['Major'].unique()[0])]\\\n",
    "            .get(first_yr_subs,0) + 1\n",
    "            link_dict[first_yr_subs][second_yr_subs] = link_dict[first_yr_subs].get(second_yr_subs,0) + 1\n",
    "            for name_obj in name:\n",
    "                link_dict[second_yr_subs][name_obj] = link_dict[first_yr_subs].get(second_yr_subs,0) + 1\n",
    "    return link_dict\n",
    "\n",
    "def create_json(node_dict,link_dict):\n",
    "    strs = \"{\\\"nodes\\\":[ \"\n",
    "    for i in range(0,len(node_dict)):\n",
    "        strs += \"{\\\"name\\\":\\\"\"+node_dict.keys()[node_dict.values().index(i)]+\"\\\"},\"\n",
    "    strs+=\"],\"\n",
    "    strs+=\"\\\"links\\\":[ \"\n",
    "    for key in link_dict:\n",
    "        for inner_key in link_dict[key]:\n",
    "            strs += \"{\\\"source\\\":\"+str(node_dict[key])+\",\\\"target\\\":\"+\\\n",
    "        str(node_dict[inner_key])+\",\\\"value\\\":\"+str(link_dict[key][inner_key])+\"},\"    \n",
    "    strs += \"] }\"\n",
    "    return strs"
   ]
  },
  {
   "cell_type": "code",
   "execution_count": null,
   "metadata": {
    "collapsed": true
   },
   "outputs": [],
   "source": [
    "generate_json(\"Combos.xlsx\",'Immu_jsondata.json',\"Immunology\")"
   ]
  },
  {
   "cell_type": "markdown",
   "metadata": {},
   "source": [
    "### If you want to view the above generated data"
   ]
  },
  {
   "cell_type": "code",
   "execution_count": 20,
   "metadata": {
    "collapsed": true
   },
   "outputs": [],
   "source": [
    "def read_json(input_file):\n",
    "    my_data = json.loads(open(input_file).read())\n",
    "    return str(my_data)"
   ]
  },
  {
   "cell_type": "code",
   "execution_count": 23,
   "metadata": {
    "collapsed": false
   },
   "outputs": [
    {
     "data": {
      "text/plain": [
       "'{\"nodes\":[ {\"name\":\"Immunology\"},{\"name\":\"BIOL10004 BIOL10005\"},{\"name\":\"BCMB20002 MIIM20002 MIIM20001\"},{\"name\":\"BCMB30001\"},{\"name\":\"MIIM30002\"},{\"name\":\"MIIM30003\"},{\"name\":\"MIIM30015\"},{\"name\":\"BCMB20002 MIIM20001 MIIM20002\"},{\"name\":\"BCMB30002\"},{\"name\":\"BCMB30003\"},{\"name\":\"MIIM20002 MIIM20001\"},{\"name\":\"CEDB30002\"},{\"name\":\"GENE30002\"},{\"name\":\"MIIM30011\"},{\"name\":\"MIIM30014\"},{\"name\":\"PATH30001\"},],\"links\":[ {\"source\":10,\"target\":6,\"value\":6},{\"source\":10,\"target\":14,\"value\":5},{\"source\":10,\"target\":13,\"value\":4},{\"source\":10,\"target\":5,\"value\":6},{\"source\":10,\"target\":15,\"value\":6},{\"source\":10,\"target\":11,\"value\":2},{\"source\":10,\"target\":4,\"value\":6},{\"source\":10,\"target\":12,\"value\":3},{\"source\":1,\"target\":10,\"value\":5},{\"source\":1,\"target\":2,\"value\":1},{\"source\":1,\"target\":7,\"value\":2},{\"source\":0,\"target\":1,\"value\":8},{\"source\":2,\"target\":6,\"value\":2},{\"source\":2,\"target\":4,\"value\":2},{\"source\":2,\"target\":5,\"value\":2},{\"source\":2,\"target\":3,\"value\":2},{\"source\":7,\"target\":6,\"value\":3},{\"source\":7,\"target\":4,\"value\":3},{\"source\":7,\"target\":8,\"value\":2},{\"source\":7,\"target\":5,\"value\":3},{\"source\":7,\"target\":9,\"value\":3},] }'"
      ]
     },
     "execution_count": 23,
     "metadata": {},
     "output_type": "execute_result"
    }
   ],
   "source": [
    "final_json = read_json(\"Immu_jsondata.json\")\n",
    "final_json"
   ]
  },
  {
   "cell_type": "code",
   "execution_count": 28,
   "metadata": {
    "collapsed": true
   },
   "outputs": [],
   "source": [
    "# for name, group in grouped_data:    \n",
    "#     print (group['Major'].unique())\n",
    "#     print (group[['1st yr 1','1st yr 2','1st yr 3','1st year 4']].values[0])\n",
    "#     print (group[['2nd year 1','2nd year 2','2nd year 3','2nd year 4','2nd year 5','2nd year 6']].values[0])\n",
    "#     print (name)"
   ]
  },
  {
   "cell_type": "code",
   "execution_count": 32,
   "metadata": {
    "collapsed": false
   },
   "outputs": [],
   "source": [
    "# #json.dumps() method turns a Python data structure into JSON:\n",
    "# jsonData = json.dumps(immu_strs)\n",
    "# # print(jsonData)\n",
    " \n",
    "# # Writing JSON data into a file called JSONData.json\n",
    "# #Use the method called json.dump()\n",
    "# #It's just dump() and not dumps()\n",
    "# #Encode JSON data\n",
    "# with open('Immu_jsondata.json', 'w') as f:\n",
    "#      json.dump(immu_strs, f)"
   ]
  }
 ],
 "metadata": {
  "anaconda-cloud": {},
  "kernelspec": {
   "display_name": "Python [default]",
   "language": "python",
   "name": "python2"
  },
  "language_info": {
   "codemirror_mode": {
    "name": "ipython",
    "version": 2
   },
   "file_extension": ".py",
   "mimetype": "text/x-python",
   "name": "python",
   "nbconvert_exporter": "python",
   "pygments_lexer": "ipython2",
   "version": "2.7.12"
  }
 },
 "nbformat": 4,
 "nbformat_minor": 1
}
