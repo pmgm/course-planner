{
 "cells": [
  {
   "cell_type": "code",
   "execution_count": 34,
   "metadata": {
    "collapsed": true
   },
   "outputs": [],
   "source": [
    "import pandas as pd\n",
    "import numpy as np\n",
    "import json\n",
    "from collections import defaultdict"
   ]
  },
  {
   "cell_type": "code",
   "execution_count": 41,
   "metadata": {
    "collapsed": true
   },
   "outputs": [],
   "source": [
    "# takes an input file, output file and a major to generate a json file\n",
    "# @input_file: takes an excel file as input\n",
    "# @output_file: the name of the generated JSON file\n",
    "# @major: the name of the major for which the output JSON file has been generated(eg. Immunology)\n",
    "def generate_json(input_file,output_file,major):\n",
    "    data = pd.read_excel(input_file,sheetname=1)\n",
    "    # drops columns that contain only NA values in all of its rows \n",
    "    data.dropna(axis=1,how='all').head()\n",
    "    # fill cells with NA values with empty space\n",
    "    data.fillna(value=' ',inplace=True)\n",
    "    # group the data based on the third year subjects\n",
    "    grouped_data = data.groupby(['3rd year 1','3rd year 2','3rd year 3','3rd year 4'])\n",
    "    # create a dictionary of nodes for the sankey diagram\n",
    "    major_nodes = create_node_dict(grouped_data,major)\n",
    "    # create a dictionary of links showing the relationship between nodes\n",
    "    major_links = create_link_dict(grouped_data,major)\n",
    "    # combine the link and node dictionaries together in the \n",
    "    #format required for generating a Sankey Diagram\n",
    "    major_strs = create_visualisation_format(major_nodes,major_links)\n",
    "    #json.dumps() method turns a Python data structure into JSON\n",
    "    jsonData = json.dumps(immu_strs)\n",
    "    # Writing JSON data into output_file\n",
    "    with open(output_file, 'w') as f:\n",
    "     json.dump(immu_strs, f)\n",
    "\n",
    "\n",
    "# Generates a dictionary of nodes, with node names as key and sequentially generated ids as values\n",
    "# @grouped_data: a list of lists containing the name of the major, and the different variations of\n",
    "#                first, second and third year subjects to complete that major. The given example\n",
    "#                shows one such variation\n",
    "#                [u'Immunology'] - major\n",
    "#                [u'BIOL10004' u'BIOL10005' ' ' ' '] - first yr subjects\n",
    "#                [u'BCMB20002' u'MIIM20002' u'MIIM20001' ' ' ' ' ' '] - second year subjects\n",
    "#                (u'BCMB30001', u'MIIM30002', u'MIIM30003', u'MIIM30015') - third year subjects as index\n",
    "# @major: the name of the major for which the node dictionary needs to be generated\n",
    "# output: {'BCMB20002 MIIM20001 MIIM20002': 2,\n",
    "#  'BCMB30001': 3,\n",
    "#  'BCMB30002': 7,\n",
    "#  'BCMB30003': 8,\n",
    "#  'BIOL10004 BIOL10005': 1,\n",
    "#  'CEDB30002': 10,\n",
    "#  'GENE30002': 11,\n",
    "#  'Immunology': 0....\n",
    "def create_node_dict(grouped_data,major):\n",
    "    node_dict = dict()\n",
    "    # counter for generating dictionary values as ids\n",
    "    node_val = 0\n",
    "    for name, group in grouped_data:\n",
    "        if group['Major'].unique() == major:\n",
    "            if group['Major'].unique()[0] not in node_dict.keys():\n",
    "                node_dict[str(group['Major'].unique()[0])] = node_val\n",
    "                node_val+=1\n",
    "            # concatenate all subjects from a given year to create unique combinations to use as keys \n",
    "            # for the node dictionary\n",
    "            # str.strip is used to remove all the list objects with empty space as values\n",
    "            first_yr_subs = (' ').join(filter(str.strip,[str(x) for x in sorted(group[['1st yr 1','1st yr 2',\\\n",
    "                                                                                '1st yr 3','1st year 4']].values[0])]))\n",
    "            if first_yr_subs not in node_dict.keys():\n",
    "                node_dict[first_yr_subs] = node_val\n",
    "                node_val+=1\n",
    "            # concatenate all subjects from a given year to create unique combinations as keys for the dictionary\n",
    "            second_yr_subs = (' ').join(filter(str.strip,[str(x) for x in sorted(group[['2nd year 1','2nd year 2',\\\n",
    "                                                                                 '2nd year 3','2nd year 4',\\\n",
    "                                                                                 '2nd year 5','2nd year 6']].values[0])]))\n",
    "            if second_yr_subs not in node_dict.keys():\n",
    "                node_dict[second_yr_subs] = node_val\n",
    "                node_val+=1\n",
    "            # take each third year subject as seperate key for the dictionary instead of concatenated combinations\n",
    "            # formed for first and second year subjects\n",
    "            for name_obj in name:\n",
    "                if str(name_obj) not in node_dict.keys():\n",
    "                    node_dict[str(name_obj)] = node_val\n",
    "                    node_val+=1\n",
    "    return node_dict\n",
    "\n",
    "# Generates a dictionary of dictionary of links, with source nodes as keys for top-level dictionary,\n",
    "# target nodes as keys for the internal dictionary and the number of times a specific source to target link\n",
    "# occurs as the value for the internal dictionary\n",
    "# @grouped_data: a list of lists containing the name of the major, and the different variations of\n",
    "#                first, second and third year subjects to complete that major. The given example\n",
    "#                shows one such variation\n",
    "#                [u'Immunology'] - major\n",
    "#                [u'BIOL10004' u'BIOL10005' ' ' ' '] - first yr subjects\n",
    "#                [u'BCMB20002' u'MIIM20002' u'MIIM20001' ' ' ' ' ' '] - second year subjects\n",
    "#                (u'BCMB30001', u'MIIM30002', u'MIIM30003', u'MIIM30015') - third year subjects as index\n",
    "# @major: the name of the major for which the link dictionary needs to be generated\n",
    "# output: defaultdict(dict,\n",
    "#             {'BCMB20002 MIIM20001 MIIM20002': {u'BCMB30001': 2,\n",
    "#               u'BCMB30002': 3,\n",
    "#               u'BCMB30003': 4,\n",
    "#               u'MIIM30002': 4,\n",
    "#               u'MIIM30003': 4,\n",
    "#               u'MIIM30015': 4},\n",
    "#              'BIOL10004 BIOL10005': {'BCMB20002 MIIM20001 MIIM20002': 3,\n",
    "#               'MIIM20001 MIIM20002': 5},\n",
    "#              'Immunology': {'BIOL10004 BIOL10005': 8},\n",
    "#              'MIIM20001 MIIM20002': {u'CEDB30002': 2,\n",
    "#               u'GENE30002': 3,\n",
    "#               u'MIIM30002': 6,\n",
    "#               u'MIIM30003': 6,\n",
    "#               u'MIIM30011': 4,\n",
    "#               u'MIIM30014': 5,\n",
    "#               u'MIIM30015': 6,\n",
    "#               u'PATH30001': 6}})\n",
    "def create_link_dict(grouped_data,major):\n",
    "    link_dict = defaultdict(dict)\n",
    "    link_val = 0\n",
    "    for name, group in grouped_data:\n",
    "        if group['Major'].unique() == major:\n",
    "            first_yr_subs = (' ').join(filter(str.strip,[str(x) for x in sorted(group[['1st yr 1','1st yr 2',\\\n",
    "                                                                                '1st yr 3','1st year 4']].values[0])]))\n",
    "            second_yr_subs = (' ').join(filter(str.strip,[str(x) for x in sorted(group[['2nd year 1','2nd year 2',\\\n",
    "                                                                                 '2nd year 3','2nd year 4',\\\n",
    "                                                                                 '2nd year 5','2nd year 6']].values[0])]))\n",
    "            # generate dict of dicts for all the links between the major and all the first year subject \n",
    "            # combinations, alongwith the number of times this link occurs\n",
    "            link_dict[str(group['Major'].unique()[0])][first_yr_subs] = link_dict[str(group['Major'].unique()[0])]\\\n",
    "            .get(first_yr_subs,0) + 1\n",
    "            # generate dict of dicts for all the links between the first year subject combinations and second year \n",
    "            # subject combinations, alongwith the number of times this link occurs\n",
    "            link_dict[first_yr_subs][second_yr_subs] = link_dict[first_yr_subs].get(second_yr_subs,0) + 1\n",
    "            for name_obj in name:\n",
    "            # generate dict of dicts for all the links between the second year subject combinations and \n",
    "            # individual third year subjects, alongwith the number of times this link occurs                \n",
    "                link_dict[second_yr_subs][name_obj] = link_dict[first_yr_subs].get(second_yr_subs,0) + 1\n",
    "    return link_dict\n",
    "\n",
    "# Combines the node dictionary and link dictionary to generate a string containing all the information\n",
    "# in the format required for the visualisation\n",
    "# @node_dict: takes the dictionary of nodes, generated using create_node_dict, as argument\n",
    "# @link_dict: takes the dictionary of links, generated using create_link_dict, as argument\n",
    "# output: '{\"nodes\":[ {\"name\":\"Immunology\"},{\"name\":\"BIOL10004 BIOL10005\"},\n",
    "# {\"name\":\"BCMB20002 MIIM20001 MIIM20002\"},{\"name\":\"BCMB30001\"},{\"name\":\"MIIM30002\"},{\"name\":\"MIIM30003\"},\n",
    "# {\"name\":\"MIIM30015\"},{\"name\":\"BCMB30002\"},{\"name\":\"BCMB30003\"},{\"name\":\"MIIM20001 MIIM20002\"},\n",
    "# {\"name\":\"CEDB30002\"},{\"name\":\"GENE30002\"},{\"name\":\"MIIM30011\"},{\"name\":\"MIIM30014\"},{\"name\":\"PATH30001\"},],\n",
    "# \"links\":[ {\"source\":9,\"target\":6,\"value\":6},{\"source\":9,\"target\":13,\"value\":5},\n",
    "#          {\"source\":9,\"target\":12,\"value\":4},{\"source\":9,\"target\":5,\"value\":6},\n",
    "#          {\"source\":9,\"target\":14,\"value\":6},{\"source\":9,\"target\":10,\"value\":2},{\"source\":9,\"target\":4,\"value\":6},\n",
    "#          {\"source\":9,\"target\":11,\"value\":3},{\"source\":1,\"target\":9,\"value\":5},{\"source\":1,\"target\":2,\"value\":3},\n",
    "#          {\"source\":0,\"target\":1,\"value\":8},{\"source\":2,\"target\":6,\"value\":4},{\"source\":2,\"target\":7,\"value\":3},\n",
    "#          {\"source\":2,\"target\":5,\"value\":4},{\"source\":2,\"target\":3,\"value\":2},{\"source\":2,\"target\":4,\"value\":4},\n",
    "#          {\"source\":2,\"target\":8,\"value\":4},] }'\n",
    "def create_visualisation_format(node_dict,link_dict):\n",
    "    strs = \"{\\\"nodes\\\":[ \"\n",
    "    for i in range(0,len(node_dict)):\n",
    "        # append the dictionary keys to the string using dictionary values as input\n",
    "        strs += \"{\\\"name\\\":\\\"\"+node_dict.keys()[node_dict.values().index(i)]+\"\\\"},\"\n",
    "    strs+=\"],\"\n",
    "    strs+=\"\\\"links\\\":[ \"\n",
    "    for key in link_dict:\n",
    "        for inner_key in link_dict[key]:\n",
    "            # replace the subject names in the link dictonary with the corresponding ids that were generated \n",
    "            # as values in the node dictionary\n",
    "            strs += \"{\\\"source\\\":\"+str(node_dict[key])+\",\\\"target\\\":\"+\\\n",
    "        str(node_dict[inner_key])+\",\\\"value\\\":\"+str(link_dict[key][inner_key])+\"},\"    \n",
    "    strs += \"] }\"\n",
    "    return strs"
   ]
  },
  {
   "cell_type": "code",
   "execution_count": 45,
   "metadata": {
    "collapsed": false
   },
   "outputs": [],
   "source": [
    "generate_json(\"Combos.xlsx\",\"Immu_jsondata.json\",\"Immunology\")"
   ]
  },
  {
   "cell_type": "markdown",
   "metadata": {},
   "source": [
    "### If you want to view the above generated data"
   ]
  },
  {
   "cell_type": "code",
   "execution_count": 46,
   "metadata": {
    "collapsed": true
   },
   "outputs": [],
   "source": [
    "def read_json(input_file):\n",
    "    my_data = json.loads(open(input_file).read())\n",
    "    return str(my_data)"
   ]
  },
  {
   "cell_type": "code",
   "execution_count": 47,
   "metadata": {
    "collapsed": false
   },
   "outputs": [
    {
     "data": {
      "text/plain": [
       "'{\"nodes\":[ {\"name\":\"Immunology\"},{\"name\":\"BIOL10004 BIOL10005\"},{\"name\":\"BCMB20002 MIIM20002 MIIM20001\"},{\"name\":\"BCMB30001\"},{\"name\":\"MIIM30002\"},{\"name\":\"MIIM30003\"},{\"name\":\"MIIM30015\"},{\"name\":\"BCMB20002 MIIM20001 MIIM20002\"},{\"name\":\"BCMB30002\"},{\"name\":\"BCMB30003\"},{\"name\":\"MIIM20002 MIIM20001\"},{\"name\":\"CEDB30002\"},{\"name\":\"GENE30002\"},{\"name\":\"MIIM30011\"},{\"name\":\"MIIM30014\"},{\"name\":\"PATH30001\"},],\"links\":[ {\"source\":10,\"target\":6,\"value\":6},{\"source\":10,\"target\":14,\"value\":5},{\"source\":10,\"target\":13,\"value\":4},{\"source\":10,\"target\":5,\"value\":6},{\"source\":10,\"target\":15,\"value\":6},{\"source\":10,\"target\":11,\"value\":2},{\"source\":10,\"target\":4,\"value\":6},{\"source\":10,\"target\":12,\"value\":3},{\"source\":1,\"target\":10,\"value\":5},{\"source\":1,\"target\":2,\"value\":1},{\"source\":1,\"target\":7,\"value\":2},{\"source\":0,\"target\":1,\"value\":8},{\"source\":2,\"target\":6,\"value\":2},{\"source\":2,\"target\":4,\"value\":2},{\"source\":2,\"target\":5,\"value\":2},{\"source\":2,\"target\":3,\"value\":2},{\"source\":7,\"target\":6,\"value\":3},{\"source\":7,\"target\":4,\"value\":3},{\"source\":7,\"target\":8,\"value\":2},{\"source\":7,\"target\":5,\"value\":3},{\"source\":7,\"target\":9,\"value\":3},] }'"
      ]
     },
     "execution_count": 47,
     "metadata": {},
     "output_type": "execute_result"
    }
   ],
   "source": [
    "final_json = read_json(\"Immu_jsondata.json\")\n",
    "final_json"
   ]
  },
  {
   "cell_type": "code",
   "execution_count": null,
   "metadata": {
    "collapsed": true
   },
   "outputs": [],
   "source": [
    "# for name, group in grouped_data:    \n",
    "#     print (group['Major'].unique())\n",
    "#     print (group[['1st yr 1','1st yr 2','1st yr 3','1st year 4']].values[0])\n",
    "#     print (group[['2nd year 1','2nd year 2','2nd year 3','2nd year 4','2nd year 5','2nd year 6']].values[0])\n",
    "#     print (name)"
   ]
  }
 ],
 "metadata": {
  "anaconda-cloud": {},
  "kernelspec": {
   "display_name": "Python [default]",
   "language": "python",
   "name": "python2"
  },
  "language_info": {
   "codemirror_mode": {
    "name": "ipython",
    "version": 2
   },
   "file_extension": ".py",
   "mimetype": "text/x-python",
   "name": "python",
   "nbconvert_exporter": "python",
   "pygments_lexer": "ipython2",
   "version": "2.7.12"
  }
 },
 "nbformat": 4,
 "nbformat_minor": 1
}
